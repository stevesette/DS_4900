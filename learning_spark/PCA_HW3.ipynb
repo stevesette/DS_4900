{
 "cells": [
  {
   "cell_type": "code",
   "execution_count": 1,
   "metadata": {
    "collapsed": false
   },
   "outputs": [],
   "source": [
    "## pyspark imports \n",
    "import pyspark \n",
    "from pyspark import SparkContext\n",
    "from pyspark.ml.feature import CountVectorizer, PCA, StopWordsRemover, IDF, RegexTokenizer\n",
    "from pyspark.sql import SparkSession\n",
    "\n",
    "## others \n",
    "import re \n",
    "import matplotlib.pyplot as plt \n",
    "import numpy as np"
   ]
  },
  {
   "cell_type": "code",
   "execution_count": 2,
   "metadata": {
    "collapsed": false
   },
   "outputs": [],
   "source": [
    "SparkContext.setSystemProperty('spark.executor.memory','2g')\n",
    "sc = pyspark.SparkContext('local[*]')"
   ]
  },
  {
   "cell_type": "code",
   "execution_count": 3,
   "metadata": {
    "collapsed": true
   },
   "outputs": [],
   "source": [
    "spark = SparkSession\\\n",
    "    .builder\\\n",
    "    .appName(\"CountVectorizerExample\")\\\n",
    "    .getOrCreate()"
   ]
  },
  {
   "cell_type": "code",
   "execution_count": 4,
   "metadata": {
    "collapsed": false
   },
   "outputs": [],
   "source": [
    "pub_rdd = sc.textFile(\"publications.txt\")"
   ]
  },
  {
   "cell_type": "code",
   "execution_count": 5,
   "metadata": {
    "collapsed": false
   },
   "outputs": [
    {
     "data": {
      "text/plain": [
       "20897"
      ]
     },
     "execution_count": 5,
     "metadata": {},
     "output_type": "execute_result"
    }
   ],
   "source": [
    "small_pub_rdd = pub_rdd.sample(False, 1e-3)\n",
    "small_pub_rdd.count()"
   ]
  },
  {
   "cell_type": "markdown",
   "metadata": {},
   "source": [
    "### I am only using a subset of the data because it cannot run in my computer on the full data: \n",
    "### to use the full data you can replace small_pub_rdd in the line below by pub_rdd"
   ]
  },
  {
   "cell_type": "code",
   "execution_count": 6,
   "metadata": {
    "collapsed": false
   },
   "outputs": [],
   "source": [
    "small_titles_full = small_pub_rdd.filter(\n",
    "                lambda l: re.match('^#\\*(.*)', l)).map(\n",
    "                lambda l: re.match('^#\\*(.*)', l).group(1).strip()).filter(\n",
    "                lambda l: l != \"\").map(lambda l: (0, l.lower()))"
   ]
  },
  {
   "cell_type": "code",
   "execution_count": 7,
   "metadata": {
    "collapsed": false
   },
   "outputs": [],
   "source": [
    "small_titles_df = small_titles_full.toDF()"
   ]
  },
  {
   "cell_type": "code",
   "execution_count": 8,
   "metadata": {
    "collapsed": false
   },
   "outputs": [
    {
     "name": "stdout",
     "output_type": "stream",
     "text": [
      "+---+--------------------+\n",
      "| _1|                  _2|\n",
      "+---+--------------------+\n",
      "|  0|kooperation in kl...|\n",
      "|  0|natürlichsprachli...|\n",
      "|  0|logic programming...|\n",
      "|  0|network database ...|\n",
      "|  0|a new approach to...|\n",
      "|  0|extracting optima...|\n",
      "|  0|design, developme...|\n",
      "|  0|challenges of usi...|\n",
      "|  0|generation of geo...|\n",
      "|  0|parallel processi...|\n",
      "|  0|a service retriev...|\n",
      "|  0|a graph theory ba...|\n",
      "|  0|a study of reconf...|\n",
      "|  0|multi-tier data a...|\n",
      "|  0|on the difficulty...|\n",
      "|  0|relational learni...|\n",
      "|  0|bootstrapping tra...|\n",
      "|  0|piecewise linear ...|\n",
      "|  0|a strategy for ml...|\n",
      "|  0|the use of object...|\n",
      "+---+--------------------+\n",
      "only showing top 20 rows\n",
      "\n"
     ]
    }
   ],
   "source": [
    "small_titles_df.show()"
   ]
  },
  {
   "cell_type": "code",
   "execution_count": 9,
   "metadata": {
    "collapsed": false
   },
   "outputs": [],
   "source": [
    "def apply_count_vectorizer(df, vs=1000, ic=\"words\", oc=\"features\"): \n",
    "    \"\"\"\n",
    "    transforms the words to the count vectorized format \n",
    "    \"\"\"\n",
    "    cv = CountVectorizer(inputCol=ic, outputCol=oc, vocabSize=vs)\n",
    "    model = cv.fit(df)\n",
    "    result = model.transform(df)\n",
    "    \n",
    "    return (result, model)\n",
    "\n",
    "\n",
    "def apply_pca(df, reduced_dim=50, ic=\"features\", oc=\"pcaFeatures\"): \n",
    "    \"\"\"\n",
    "    reduces the dimentionality of the feature vectors \n",
    "    \"\"\"\n",
    "    pca = PCA(k=50, inputCol=ic, outputCol=oc)\n",
    "    model = pca.fit(df)\n",
    "    result = model.transform(df)\n",
    "    \n",
    "    return (result, model)\n",
    "\n",
    "\n",
    "def remove_stop_words(df, sw_file=\"stopwords_english.txt\", ic=\"words\"): \n",
    "    \"\"\"\n",
    "    \"\"\"\n",
    "    filter_words = sc.textFile(\"stopwords_english.txt\").collect()\n",
    "    remover = StopWordsRemover(inputCol=ic, outputCol=\"filtered\", stopWords=filter_words)\n",
    "    new_df = remover.transform(df)\n",
    "    \n",
    "    return new_df\n",
    "\n",
    "\n",
    "def apply_tf_idf(df, ic=\"features\", k=1000, oc=\"tfidFeatures\"): \n",
    "    \"\"\"\n",
    "    \"\"\"\n",
    "    idf = IDF(inputCol=ic, outputCol=oc)\n",
    "    idfModel = idf.fit(df)\n",
    "    rescaledData = idfModel.transform(df)\n",
    "    \n",
    "    return (rescaledData, idfModel) \n",
    "\n",
    "def plot_scatter(fv, ids=False, color=['purple'], ic=\"features\"): \n",
    "    \"\"\"\n",
    "    \"\"\"\n",
    "    pca_result, pca_model = apply_pca(fv, reduced_dim=2, ic=ic)\n",
    "    if not ids: \n",
    "        pca_features = pca_result.select(\"pcaFeatures\").rdd.map(lambda r: r[0])\n",
    "        x_s = pca_features.map(lambda l: l[0]).collect()\n",
    "        y_s = pca_features.map(lambda l: l[1]).collect()\n",
    "        plt.scatter(x=x_s,y=y_s,c=color, alpha=0.5)\n",
    "    else: \n",
    "        pca_features_0 = pca_result.select(\"_1\", \"pcaFeatures\").rdd.filter(lambda r: r[0] == 0)\n",
    "        pca_features_1 = pca_result.select(\"_1\", \"pcaFeatures\").rdd.filter(lambda r: r[0] == 1)\n",
    "        \n",
    "        x_0 = pca_features_0.map(lambda l: l[1][0]).collect()\n",
    "        y_0 = pca_features_0.map(lambda l: l[1][1]).collect()\n",
    "        \n",
    "        x_1 = pca_features_1.map(lambda l: l[1][0]).collect()\n",
    "        y_1 = pca_features_1.map(lambda l: l[1][1]).collect()\n",
    "        \n",
    "        plt.scatter(x=x_0,y=y_0, c=['yellow'], alpha=0.5)\n",
    "        plt.scatter(x=x_1,y=y_1, c=['blue'], alpha=0.5)\n",
    " \n",
    "        \n",
    "def part_c(pca_model, vocab_model):\n",
    "    \"\"\"\n",
    "    \"\"\"\n",
    "    vocab = vocab_model.vocabulary\n",
    "    eigenvectors = pca_model.pc.toArray().T\n",
    "    for k,ev in enumerate(eigenvectors):\n",
    "        ws = [vocab[w] for (w,c) in enumerate(np.abs(ev)) if c > 0.2]\n",
    "#         print(k, (ev**2).sum())\n",
    "        print(k,ws)"
   ]
  },
  {
   "cell_type": "code",
   "execution_count": null,
   "metadata": {
    "collapsed": true
   },
   "outputs": [],
   "source": [
    "\n"
   ]
  },
  {
   "cell_type": "code",
   "execution_count": 10,
   "metadata": {
    "collapsed": false
   },
   "outputs": [
    {
     "name": "stdout",
     "output_type": "stream",
     "text": [
      "+---+--------------------+--------------------+\n",
      "| _1|                  _2|               words|\n",
      "+---+--------------------+--------------------+\n",
      "|  0|kooperation in kl...|[kooperation, in,...|\n",
      "|  0|natürlichsprachli...|[nat, rlichsprach...|\n",
      "|  0|logic programming...|[logic, programmi...|\n",
      "|  0|network database ...|[network, databas...|\n",
      "|  0|a new approach to...|[a, new, approach...|\n",
      "|  0|extracting optima...|[extracting, opti...|\n",
      "|  0|design, developme...|[design, developm...|\n",
      "|  0|challenges of usi...|[challenges, of, ...|\n",
      "|  0|generation of geo...|[generation, of, ...|\n",
      "|  0|parallel processi...|[parallel, proces...|\n",
      "|  0|a service retriev...|[a, service, retr...|\n",
      "|  0|a graph theory ba...|[a, graph, theory...|\n",
      "|  0|a study of reconf...|[a, study, of, re...|\n",
      "|  0|multi-tier data a...|[multi, tier, dat...|\n",
      "|  0|on the difficulty...|[on, the, difficu...|\n",
      "|  0|relational learni...|[relational, lear...|\n",
      "|  0|bootstrapping tra...|[bootstrapping, t...|\n",
      "|  0|piecewise linear ...|[piecewise, linea...|\n",
      "|  0|a strategy for ml...|[a, strategy, for...|\n",
      "|  0|the use of object...|[the, use, of, ob...|\n",
      "+---+--------------------+--------------------+\n",
      "only showing top 20 rows\n",
      "\n"
     ]
    }
   ],
   "source": [
    "##### all the required data frames for the first part \n",
    "\n",
    "regexTokenizer = RegexTokenizer(inputCol=\"_2\", outputCol=\"words\", pattern=\"\\\\W\")\n",
    "df_small_titles_full = regexTokenizer.transform(small_titles_df)\n",
    "df_small_titles_full.show()"
   ]
  },
  {
   "cell_type": "markdown",
   "metadata": {},
   "source": [
    "## Start of application: \n",
    "### part a. truncating to 1000 most fequent words using count_vector"
   ]
  },
  {
   "cell_type": "code",
   "execution_count": 11,
   "metadata": {
    "collapsed": false,
    "scrolled": false
   },
   "outputs": [
    {
     "name": "stdout",
     "output_type": "stream",
     "text": [
      "+---+--------------------+--------------------+--------------------+\n",
      "| _1|                  _2|               words|            features|\n",
      "+---+--------------------+--------------------+--------------------+\n",
      "|  0|kooperation in kl...|[kooperation, in,...|    (1000,[4],[1.0])|\n",
      "|  0|natürlichsprachli...|[nat, rlichsprach...|  (1000,[713],[1.0])|\n",
      "|  0|logic programming...|[logic, programmi...|(1000,[49,54,72,7...|\n",
      "|  0|network database ...|[network, databas...|(1000,[19,24,83,1...|\n",
      "|  0|a new approach to...|[a, new, approach...|(1000,[2,3,4,9,23...|\n",
      "|  0|extracting optima...|[extracting, opti...|(1000,[113,116,29...|\n",
      "|  0|design, developme...|[design, developm...|(1000,[0,2,3,19,5...|\n",
      "|  0|challenges of usi...|[challenges, of, ...|(1000,[0,1,11,180...|\n",
      "|  0|generation of geo...|[generation, of, ...|(1000,[0,6,7,11,8...|\n",
      "|  0|parallel processi...|[parallel, proces...|(1000,[2,3,4,58,6...|\n",
      "|  0|a service retriev...|[a, service, retr...|(1000,[2,7,8,14,5...|\n",
      "|  0|a graph theory ba...|[a, graph, theory...|(1000,[1,2,3,7,16...|\n",
      "|  0|a study of reconf...|[a, study, of, re...|(1000,[0,2,3,18,2...|\n",
      "|  0|multi-tier data a...|[multi, tier, dat...|(1000,[3,18,22,59...|\n",
      "|  0|on the difficulty...|[on, the, difficu...|(1000,[0,1,5,6,26...|\n",
      "|  0|relational learni...|[relational, lear...|(1000,[0,1,17,26,...|\n",
      "|  0|bootstrapping tra...|[bootstrapping, t...|(1000,[1,2,4,18,2...|\n",
      "|  0|piecewise linear ...|[piecewise, linea...|(1000,[1,49,50,67...|\n",
      "|  0|a strategy for ml...|[a, strategy, for...|(1000,[1,2,356,54...|\n",
      "|  0|the use of object...|[the, use, of, ob...|(1000,[0,4,5,48,5...|\n",
      "+---+--------------------+--------------------+--------------------+\n",
      "only showing top 20 rows\n",
      "\n"
     ]
    }
   ],
   "source": [
    "count_vect_result, count_vec_model = apply_count_vectorizer(df_small_titles_full)  \n",
    "count_vect_result.show()"
   ]
  },
  {
   "cell_type": "markdown",
   "metadata": {},
   "source": [
    "### applying PCA "
   ]
  },
  {
   "cell_type": "code",
   "execution_count": 12,
   "metadata": {
    "collapsed": false
   },
   "outputs": [
    {
     "name": "stdout",
     "output_type": "stream",
     "text": [
      "+---+--------------------+--------------------+--------------------+--------------------+\n",
      "| _1|                  _2|               words|            features|         pcaFeatures|\n",
      "+---+--------------------+--------------------+--------------------+--------------------+\n",
      "|  0|kooperation in kl...|[kooperation, in,...|    (1000,[4],[1.0])|[-0.0989193539552...|\n",
      "|  0|natürlichsprachli...|[nat, rlichsprach...|  (1000,[713],[1.0])|[-0.0020234612000...|\n",
      "|  0|logic programming...|[logic, programmi...|(1000,[49,54,72,7...|[0.00317377634847...|\n",
      "|  0|network database ...|[network, databas...|(1000,[19,24,83,1...|[-0.0405839216641...|\n",
      "|  0|a new approach to...|[a, new, approach...|(1000,[2,3,4,9,23...|[-0.3847273147156...|\n",
      "|  0|extracting optima...|[extracting, opti...|(1000,[113,116,29...|[0.00554833550270...|\n",
      "|  0|design, developme...|[design, developm...|(1000,[0,2,3,19,5...|[-1.1085114654349...|\n",
      "|  0|challenges of usi...|[challenges, of, ...|(1000,[0,1,11,180...|[-0.6019557169415...|\n",
      "|  0|generation of geo...|[generation, of, ...|(1000,[0,6,7,11,8...|[-0.9057429123136...|\n",
      "|  0|parallel processi...|[parallel, proces...|(1000,[2,3,4,58,6...|[-0.3634173594216...|\n",
      "|  0|a service retriev...|[a, service, retr...|(1000,[2,7,8,14,5...|[-0.0185310838801...|\n",
      "|  0|a graph theory ba...|[a, graph, theory...|(1000,[1,2,3,7,16...|[-0.2681233356645...|\n",
      "|  0|a study of reconf...|[a, study, of, re...|(1000,[0,2,3,18,2...|[-1.0963540741045...|\n",
      "|  0|multi-tier data a...|[multi, tier, dat...|(1000,[3,18,22,59...|[-0.1555522122580...|\n",
      "|  0|on the difficulty...|[on, the, difficu...|(1000,[0,1,5,6,26...|[-1.1605750742274...|\n",
      "|  0|relational learni...|[relational, lear...|(1000,[0,1,17,26,...|[-0.6272180881904...|\n",
      "|  0|bootstrapping tra...|[bootstrapping, t...|(1000,[1,2,4,18,2...|[0.00607316815435...|\n",
      "|  0|piecewise linear ...|[piecewise, linea...|(1000,[1,49,50,67...|[0.21002760799177...|\n",
      "|  0|a strategy for ml...|[a, strategy, for...|(1000,[1,2,356,54...|[0.13649269274998...|\n",
      "|  0|the use of object...|[the, use, of, ob...|(1000,[0,4,5,48,5...|[-1.3973746800025...|\n",
      "+---+--------------------+--------------------+--------------------+--------------------+\n",
      "only showing top 20 rows\n",
      "\n"
     ]
    }
   ],
   "source": [
    "pca_result, pca_model = apply_pca(count_vect_result)\n",
    "pca_result.show()"
   ]
  },
  {
   "cell_type": "code",
   "execution_count": 13,
   "metadata": {
    "collapsed": false
   },
   "outputs": [
    {
     "name": "stdout",
     "output_type": "stream",
     "text": [
      "[0.0570363266546,0.0405990535718,0.0339737683624,0.0315615988861,0.0267142152334,0.0241389865495,0.0196408160465,0.0130380815092,0.0125885434719,0.0120605744047,0.0105454444962,0.00973873745356,0.00922064914061,0.00809653233914,0.00755741383228,0.00747012161552,0.00649873450051,0.00618078222617,0.00563008700454,0.00551505757175,0.00540463590326,0.00516909136556,0.00493173119704,0.00487979495054,0.00452712426244,0.00451359728802,0.00438828546201,0.00430034460163,0.00424429858426,0.00410484486465,0.0039976837316,0.00390972562843,0.003766928071,0.00376035416181,0.00357929929944,0.0035185745712,0.0034975526544,0.00337896982868,0.00335662907748,0.00329013153203,0.00324658606909,0.00320923474817,0.00314898875043,0.00310318390383,0.00304783990471,0.00302564831152,0.0029880589958,0.00292755329924,0.00289899549472,0.00287871079764]\n"
     ]
    },
    {
     "data": {
      "text/plain": [
       "array([[ -8.23392417e-01,  -1.30754936e-01,   6.18239752e-02, ...,\n",
       "          1.23047933e-03,   1.26614887e-04,  -1.25275791e-02],\n",
       "       [  2.10807585e-01,  -5.41558493e-01,  -1.65264080e-01, ...,\n",
       "         -1.25224006e-02,  -2.56590505e-03,   1.51439257e-02],\n",
       "       [ -7.91550293e-02,  -7.48661657e-01,  -1.73031875e-01, ...,\n",
       "         -8.54301080e-04,   4.03102171e-03,   2.51502405e-02],\n",
       "       ..., \n",
       "       [ -4.00948936e-04,  -1.02292425e-03,   1.10519515e-03, ...,\n",
       "          9.15375807e-03,   2.00405163e-03,  -3.94076186e-03],\n",
       "       [  1.95477500e-04,   2.01819774e-03,  -1.96731148e-03, ...,\n",
       "          1.76018858e-03,  -3.22350899e-03,  -2.51873724e-03],\n",
       "       [ -8.14039018e-04,  -1.01250100e-03,  -3.61834900e-04, ...,\n",
       "         -1.61015135e-03,  -1.16845030e-02,   3.16058508e-03]])"
      ]
     },
     "execution_count": 13,
     "metadata": {},
     "output_type": "execute_result"
    },
    {
     "data": {
      "image/png": "[encoded data removed]",
      "text/plain": [
       "<matplotlib.figure.Figure at 0x7fe211370780>"
      ]
     },
     "metadata": {},
     "output_type": "display_data"
    }
   ],
   "source": [
    "## checkes the variance across differenbt features \n",
    "var = pca_model.explainedVariance\n",
    "print(var)\n",
    "np.shape(var)\n",
    "\n",
    "plt.plot(var)\n",
    "pca_model.pc.toArray()"
   ]
  },
  {
   "cell_type": "markdown",
   "metadata": {},
   "source": [
    "### as we can see below, we need 6 components to explain 50% of the total variance "
   ]
  },
  {
   "cell_type": "code",
   "execution_count": 14,
   "metadata": {
    "collapsed": false
   },
   "outputs": [
    {
     "name": "stdout",
     "output_type": "stream",
     "text": [
      "[ 0.12377677  0.21188237  0.28561018  0.35410324  0.41207681  0.46446177\n",
      "  0.50708508  0.53537953  0.56269842  0.58887155  0.61175663  0.63289105\n",
      "  0.65290114  0.67047175  0.68687239  0.70308359  0.71718675  0.73059991\n",
      "  0.74281798  0.75478642  0.76651524  0.77773288  0.78843543  0.79902526\n",
      "  0.80884975  0.81864489  0.82816808  0.83750042  0.84671114  0.85561923\n",
      "  0.86429476  0.87277941  0.88095417  0.88911466  0.89688224  0.90451803\n",
      "  0.91210821  0.91944104  0.9267254   0.93386544  0.94091098  0.94787547\n",
      "  0.95470921  0.96144356  0.96805779  0.97462387  0.98110837  0.98746157\n",
      "  0.9937528   1.        ]\n"
     ]
    },
    {
     "data": {
      "text/plain": [
       "[<matplotlib.lines.Line2D at 0x7fe20da6eac8>]"
      ]
     },
     "execution_count": 14,
     "metadata": {},
     "output_type": "execute_result"
    },
    {
     "data": {
      "image/png": "[encoded data removed]",
      "text/plain": [
       "<matplotlib.figure.Figure at 0x7fe211348908>"
      ]
     },
     "metadata": {},
     "output_type": "display_data"
    }
   ],
   "source": [
    "print(np.cumsum(var)/np.sum(var))\n",
    "plt.plot(np.cumsum(var)/np.sum(var))"
   ]
  },
  {
   "cell_type": "code",
   "execution_count": null,
   "metadata": {
    "collapsed": true
   },
   "outputs": [],
   "source": []
  },
  {
   "cell_type": "markdown",
   "metadata": {},
   "source": [
    "### Identifying important words in each of the principle components"
   ]
  },
  {
   "cell_type": "code",
   "execution_count": 15,
   "metadata": {
    "collapsed": false,
    "scrolled": false
   },
   "outputs": [
    {
     "name": "stdout",
     "output_type": "stream",
     "text": [
      "0 ['of', 'for', 'the']\n",
      "1 ['for', 'a', 'and']\n",
      "2 ['and', 'the']\n",
      "3 ['for', 'a', 'in', 'the']\n",
      "4 ['of', 'for', 'in', 'the']\n",
      "5 ['of', 'in', 'the', 'on']\n",
      "6 ['in', 'the', 'on', 'based']\n",
      "7 ['based', 'to', 'an', 'approach']\n",
      "8 ['on', 'based', 'with']\n",
      "9 ['on', 'based', 'with', 'an']\n",
      "10 ['with', 'to', 'an', 'using', 'systems']\n",
      "11 ['using', 'systems', 'networks']\n",
      "12 ['to', 'an', 'using', 'systems']\n",
      "13 ['an', 'system', 'model']\n",
      "14 ['systems', 'system', 'model', 'networks', 'wireless']\n",
      "15 ['model', 'networks', 'data']\n",
      "16 ['model', 'information', 'data']\n",
      "17 ['analysis', 'information', 'data']\n",
      "18 ['information', 'time', 'multi', 'real']\n",
      "19 ['analysis', 'information', 'design', 'time']\n",
      "20 ['analysis', 'information', 'design']\n",
      "21 ['time', 'multi', 'network']\n",
      "22 ['design', 'by', 'multi', 'network', 'learning']\n",
      "23 ['by', 'multi', 'network']\n",
      "24 ['from', 'software', 'web', 'mobile', '2008', 'isbn', 'pp', 'press']\n",
      "25 ['design', 'approach', 'network', 'algorithm', 'performance', 'study', 'software']\n",
      "26 ['learning', 'performance', 'software', 'object', 'oriented']\n",
      "27 ['approach', 'from', 'learning', 'algorithm', 'performance']\n",
      "28 ['approach', 'from', 'learning']\n",
      "29 ['network', 'from', 'algorithm', 'performance', 'software']\n",
      "30 ['by', 'study', 'web']\n",
      "31 ['approach', 'from', 'language']\n",
      "32 ['learning', 'study', 'image', 'case', 'recognition', 'object']\n",
      "33 ['control', 'adaptive', 'language']\n",
      "34 ['learning', 'study', 'software', 'control', 'web', 'case', 'recognition', 'language']\n",
      "35 ['approach', 'distributed', 'image', 'efficient', 'models']\n",
      "36 ['control', 'distributed', 'image', 'method']\n",
      "37 ['control', 'image', 'efficient', 'error']\n",
      "38 ['method', 'algorithms', 'recognition', 'video']\n",
      "39 ['software', 'distributed', 'method', 'language', 'oriented']\n",
      "40 ['management', 'problem', 'web', 'algorithms', 'mobile', 'language']\n",
      "41 ['distributed', 'method', 'video', 'estimation']\n",
      "42 ['management', 'mobile', 'video', 'language', 'high']\n",
      "43 ['method', 'management', 'wireless', 'adaptive', 'algorithms', 'dynamic', 'search']\n",
      "44 ['efficient', 'models', 'process', 'video', 'new', 'high']\n",
      "45 ['efficient', 'adaptive', 'algorithms', 'models', 'recognition', 'high', 'error']\n",
      "46 ['distributed', 'mobile', 'models', 'language']\n",
      "47 ['management', 'adaptive', 'video', 'high']\n",
      "48 ['efficient', 'models', 'process', 'service', 'detection', 'error']\n",
      "49 ['method', 'models', 'parallel', 'linear', 'error']\n"
     ]
    }
   ],
   "source": [
    "part_c(pca_model, count_vec_model)"
   ]
  },
  {
   "cell_type": "markdown",
   "metadata": {},
   "source": [
    "## Scatter plot of initial results"
   ]
  },
  {
   "cell_type": "code",
   "execution_count": null,
   "metadata": {
    "collapsed": true
   },
   "outputs": [],
   "source": []
  },
  {
   "cell_type": "markdown",
   "metadata": {},
   "source": [
    "The scatter plot of the results of count vectorizer before filtering the stop words is unstructured because as we can see in part c (above) these stop words are the words most frequently occuring and they should not be carrying alot of weight. Two components capture 21% of the variance which means that there are more grouping and less structure because less data is more spread out from the mean. "
   ]
  },
  {
   "cell_type": "code",
   "execution_count": 16,
   "metadata": {
    "collapsed": false,
    "scrolled": false
   },
   "outputs": [
    {
     "data": {
      "image/png": "[encoded data removed]",
      "text/plain": [
       "<matplotlib.figure.Figure at 0x7fe2113702b0>"
      ]
     },
     "metadata": {},
     "output_type": "display_data"
    }
   ],
   "source": [
    "plot_scatter(count_vect_result)"
   ]
  },
  {
   "cell_type": "markdown",
   "metadata": {
    "collapsed": false
   },
   "source": [
    "## preprocessing and removing stop words\n"
   ]
  },
  {
   "cell_type": "code",
   "execution_count": 17,
   "metadata": {
    "collapsed": false
   },
   "outputs": [
    {
     "name": "stdout",
     "output_type": "stream",
     "text": [
      "+---+--------------------+--------------------+--------------------+\n",
      "| _1|                  _2|               words|            filtered|\n",
      "+---+--------------------+--------------------+--------------------+\n",
      "|  0|kooperation in kl...|[kooperation, in,...|[kooperation, kle...|\n",
      "|  0|natürlichsprachli...|[nat, rlichsprach...|[nat, rlichsprach...|\n",
      "|  0|logic programming...|[logic, programmi...|[logic, programmi...|\n",
      "|  0|network database ...|[network, databas...|[network, databas...|\n",
      "|  0|a new approach to...|[a, new, approach...|[new, approach, h...|\n",
      "|  0|extracting optima...|[extracting, opti...|[extracting, opti...|\n",
      "|  0|design, developme...|[design, developm...|[design, developm...|\n",
      "|  0|challenges of usi...|[challenges, of, ...|[challenges, usin...|\n",
      "|  0|generation of geo...|[generation, of, ...|[generation, geom...|\n",
      "|  0|parallel processi...|[parallel, proces...|[parallel, proces...|\n",
      "|  0|a service retriev...|[a, service, retr...|[service, retriev...|\n",
      "|  0|a graph theory ba...|[a, graph, theory...|[graph, theory, b...|\n",
      "|  0|a study of reconf...|[a, study, of, re...|[study, reconfigu...|\n",
      "|  0|multi-tier data a...|[multi, tier, dat...|[multi, tier, dat...|\n",
      "|  0|on the difficulty...|[on, the, difficu...|[difficulty, modu...|\n",
      "|  0|relational learni...|[relational, lear...|[relational, lear...|\n",
      "|  0|bootstrapping tra...|[bootstrapping, t...|[bootstrapping, t...|\n",
      "|  0|piecewise linear ...|[piecewise, linea...|[piecewise, linea...|\n",
      "|  0|a strategy for ml...|[a, strategy, for...|[strategy, mls, w...|\n",
      "|  0|the use of object...|[the, use, of, ob...|[use, object, spe...|\n",
      "+---+--------------------+--------------------+--------------------+\n",
      "only showing top 20 rows\n",
      "\n"
     ]
    }
   ],
   "source": [
    "filtered_df = remove_stop_words(df_small_titles_full)\n",
    "filtered_df.show()"
   ]
  },
  {
   "cell_type": "code",
   "execution_count": 18,
   "metadata": {
    "collapsed": false
   },
   "outputs": [
    {
     "name": "stdout",
     "output_type": "stream",
     "text": [
      "+---+--------------------+--------------------+--------------------+--------------------+\n",
      "| _1|                  _2|               words|            filtered|            features|\n",
      "+---+--------------------+--------------------+--------------------+--------------------+\n",
      "|  0|kooperation in kl...|[kooperation, in,...|[kooperation, kle...|        (1000,[],[])|\n",
      "|  0|natürlichsprachli...|[nat, rlichsprach...|[nat, rlichsprach...|  (1000,[599],[1.0])|\n",
      "|  0|logic programming...|[logic, programmi...|[logic, programmi...|(1000,[43,45,59,6...|\n",
      "|  0|network database ...|[network, databas...|[network, databas...|(1000,[9,13,71,90...|\n",
      "|  0|a new approach to...|[a, new, approach...|[new, approach, h...|(1000,[12,44,56,6...|\n",
      "|  0|extracting optima...|[extracting, opti...|[extracting, opti...|(1000,[103,273,89...|\n",
      "|  0|design, developme...|[design, developm...|[design, developm...|(1000,[9,40,65,14...|\n",
      "|  0|challenges of usi...|[challenges, of, ...|[challenges, usin...|(1000,[1,160,243,...|\n",
      "|  0|generation of geo...|[generation, of, ...|[generation, geom...|(1000,[0,1,66,85,...|\n",
      "|  0|parallel processi...|[parallel, proces...|[parallel, proces...|(1000,[46,50,57,4...|\n",
      "|  0|a service retriev...|[a, service, retr...|[service, retriev...|(1000,[0,4,40,102...|\n",
      "|  0|a graph theory ba...|[a, graph, theory...|[graph, theory, b...|(1000,[0,6,32,61,...|\n",
      "|  0|a study of reconf...|[a, study, of, re...|[study, reconfigu...|(1000,[8,17,502,9...|\n",
      "|  0|multi-tier data a...|[multi, tier, dat...|[multi, tier, dat...|(1000,[8,11,47,77...|\n",
      "|  0|on the difficulty...|[on, the, difficu...|[difficulty, modu...|(1000,[14,45,56,4...|\n",
      "|  0|relational learni...|[relational, lear...|[relational, lear...|(1000,[7,14,127,2...|\n",
      "|  0|bootstrapping tra...|[bootstrapping, t...|[bootstrapping, t...|(1000,[8,14,17,34...|\n",
      "|  0|piecewise linear ...|[piecewise, linea...|[piecewise, linea...|(1000,[38,45,53,1...|\n",
      "|  0|a strategy for ml...|[a, strategy, for...|[strategy, mls, w...|(1000,[289,578],[...|\n",
      "|  0|the use of object...|[the, use, of, ob...|[use, object, spe...|(1000,[41,43,48,5...|\n",
      "+---+--------------------+--------------------+--------------------+--------------------+\n",
      "only showing top 20 rows\n",
      "\n"
     ]
    }
   ],
   "source": [
    "count_vect_fw_result, cv_fw_model = apply_count_vectorizer(filtered_df, ic=\"filtered\")\n",
    "count_vect_fw_result.show()"
   ]
  },
  {
   "cell_type": "code",
   "execution_count": 19,
   "metadata": {
    "collapsed": false
   },
   "outputs": [
    {
     "name": "stdout",
     "output_type": "stream",
     "text": [
      "+---+--------------------+--------------------+--------------------+--------------------+--------------------+\n",
      "| _1|                  _2|               words|            filtered|            features|         pcaFeatures|\n",
      "+---+--------------------+--------------------+--------------------+--------------------+--------------------+\n",
      "|  0|kooperation in kl...|[kooperation, in,...|[kooperation, kle...|        (1000,[],[])|[0.0,0.0,0.0,0.0,...|\n",
      "|  0|natürlichsprachli...|[nat, rlichsprach...|[nat, rlichsprach...|  (1000,[599],[1.0])|[0.00323414530613...|\n",
      "|  0|logic programming...|[logic, programmi...|[logic, programmi...|(1000,[43,45,59,6...|[-0.0058368289803...|\n",
      "|  0|network database ...|[network, databas...|[network, databas...|(1000,[9,13,71,90...|[-0.0103117898587...|\n",
      "|  0|a new approach to...|[a, new, approach...|[new, approach, h...|(1000,[12,44,56,6...|[-0.0218262128813...|\n",
      "|  0|extracting optima...|[extracting, opti...|[extracting, opti...|(1000,[103,273,89...|[0.00483875739402...|\n",
      "|  0|design, developme...|[design, developm...|[design, developm...|(1000,[9,40,65,14...|[0.00565241299103...|\n",
      "|  0|challenges of usi...|[challenges, of, ...|[challenges, usin...|(1000,[1,160,243,...|[-0.0922311975944...|\n",
      "|  0|generation of geo...|[generation, of, ...|[generation, geom...|(1000,[0,1,66,85,...|[-1.0517785238024...|\n",
      "|  0|parallel processi...|[parallel, proces...|[parallel, proces...|(1000,[46,50,57,4...|[0.01911875146979...|\n",
      "|  0|a service retriev...|[a, service, retr...|[service, retriev...|(1000,[0,4,40,102...|[-1.1263067354200...|\n",
      "|  0|a graph theory ba...|[a, graph, theory...|[graph, theory, b...|(1000,[0,6,32,61,...|[-1.0195127706527...|\n",
      "|  0|a study of reconf...|[a, study, of, re...|[study, reconfigu...|(1000,[8,17,502,9...|[0.02310344001599...|\n",
      "|  0|multi-tier data a...|[multi, tier, dat...|[multi, tier, dat...|(1000,[8,11,47,77...|[-0.0395265957950...|\n",
      "|  0|on the difficulty...|[on, the, difficu...|[difficulty, modu...|(1000,[14,45,56,4...|[0.02876826964770...|\n",
      "|  0|relational learni...|[relational, lear...|[relational, lear...|(1000,[7,14,127,2...|[9.37249274281389...|\n",
      "|  0|bootstrapping tra...|[bootstrapping, t...|[bootstrapping, t...|(1000,[8,14,17,34...|[0.02763527124771...|\n",
      "|  0|piecewise linear ...|[piecewise, linea...|[piecewise, linea...|(1000,[38,45,53,1...|[0.01559166956431...|\n",
      "|  0|a strategy for ml...|[a, strategy, for...|[strategy, mls, w...|(1000,[289,578],[...|[0.00688523928242...|\n",
      "|  0|the use of object...|[the, use, of, ob...|[use, object, spe...|(1000,[41,43,48,5...|[-0.0069029756927...|\n",
      "+---+--------------------+--------------------+--------------------+--------------------+--------------------+\n",
      "only showing top 20 rows\n",
      "\n"
     ]
    }
   ],
   "source": [
    "pca_result_2, pca_model_2 = apply_pca(count_vect_fw_result)\n",
    "pca_result_2.show(truncate=True)"
   ]
  },
  {
   "cell_type": "code",
   "execution_count": 20,
   "metadata": {
    "collapsed": false
   },
   "outputs": [
    {
     "name": "stdout",
     "output_type": "stream",
     "text": [
      "[0.0213075399461,0.0140985201938,0.0131242287002,0.011939088556,0.0107850016404,0.0103854941154,0.00894065539493,0.00866581528303,0.00798721108458,0.00779795162366,0.00747518118963,0.00716828537592,0.00688023426238,0.00657733534686,0.00641484119332,0.00633061050855,0.00606555852237,0.00602145731786,0.0058020279688,0.00559997882905,0.00532980299371,0.00523128390277,0.00504493111458,0.00493726337966,0.00492166350615,0.00475583120633,0.00470152046501,0.00458889577443,0.00455231306193,0.00445395707517,0.00438542436826,0.00435003899982,0.00431012845032,0.00419565679518,0.00417123428315,0.00409713173635,0.00407431851779,0.0040203190557,0.00396476745722,0.0039194650352,0.0038773379528,0.00374834459123,0.00369656051982,0.00367873503092,0.00364980412868,0.00363423598421,0.00356472818027,0.00353271133312,0.00349101850692,0.00347039502836]\n"
     ]
    },
    {
     "data": {
      "text/plain": [
       "[<matplotlib.lines.Line2D at 0x7fe20d9c5d30>]"
      ]
     },
     "execution_count": 20,
     "metadata": {},
     "output_type": "execute_result"
    },
    {
     "data": {
      "image/png": "[encoded data removed]",
      "text/plain": [
       "<matplotlib.figure.Figure at 0x7fe20da090f0>"
      ]
     },
     "metadata": {},
     "output_type": "display_data"
    }
   ],
   "source": [
    "## checkes the variance across different features \n",
    "var = pca_model_2.explainedVariance\n",
    "print(var)\n",
    "np.shape(var)\n",
    "plt.plot(var)"
   ]
  },
  {
   "cell_type": "markdown",
   "metadata": {},
   "source": [
    "### as we can see below, we need 15 components to explain 50% of the total variance"
   ]
  },
  {
   "cell_type": "code",
   "execution_count": 21,
   "metadata": {
    "collapsed": false,
    "scrolled": false
   },
   "outputs": [
    {
     "name": "stdout",
     "output_type": "stream",
     "text": [
      "[ 0.06969698  0.11581325  0.15874261  0.19779538  0.23307313  0.26704409\n",
      "  0.29628898  0.32463487  0.35076104  0.37626814  0.40071947  0.42416694\n",
      "  0.44667219  0.46818666  0.48916961  0.50987704  0.52971748  0.54941368\n",
      "  0.56839211  0.58670965  0.60414344  0.62125497  0.63775695  0.65390674\n",
      "  0.6700055   0.68556183  0.70094051  0.71595079  0.73084141  0.7454103\n",
      "  0.75975503  0.77398401  0.78808245  0.80180644  0.81545055  0.82885227\n",
      "  0.84217937  0.85532984  0.8682986   0.88111917  0.89380195  0.90606278\n",
      "  0.91815424  0.93018738  0.94212589  0.95401348  0.96567371  0.97722921\n",
      "  0.98864834  1.        ]\n"
     ]
    },
    {
     "data": {
      "text/plain": [
       "[<matplotlib.lines.Line2D at 0x7fe20d9a5be0>]"
      ]
     },
     "execution_count": 21,
     "metadata": {},
     "output_type": "execute_result"
    },
    {
     "data": {
      "image/png": "[encoded data removed]",
      "text/plain": [
       "<matplotlib.figure.Figure at 0x7fe20d9e0cf8>"
      ]
     },
     "metadata": {},
     "output_type": "display_data"
    }
   ],
   "source": [
    "print(np.cumsum(var)/np.sum(var))\n",
    "plt.plot(np.cumsum(var)/np.sum(var))"
   ]
  },
  {
   "cell_type": "markdown",
   "metadata": {},
   "source": [
    "### Identifying important words in each of the principle components after filtering out stop words "
   ]
  },
  {
   "cell_type": "code",
   "execution_count": 22,
   "metadata": {
    "collapsed": false,
    "scrolled": false
   },
   "outputs": [
    {
     "name": "stdout",
     "output_type": "stream",
     "text": [
      "0 ['based']\n",
      "1 ['using', 'systems']\n",
      "2 ['using', 'systems']\n",
      "3 ['system', 'model', 'networks', 'information']\n",
      "4 ['system', 'networks', 'wireless']\n",
      "5 ['system', 'model', 'data']\n",
      "6 ['model', 'analysis', 'information', 'data', 'time']\n",
      "7 ['analysis', 'information', 'data', 'performance']\n",
      "8 ['analysis', 'information', 'data', 'design']\n",
      "9 ['information', 'design', 'time', 'multi', 'real']\n",
      "10 ['analysis', 'information', 'design', 'time']\n",
      "11 ['information', 'time', 'multi', 'network']\n",
      "12 ['design', 'multi', 'network', 'algorithm']\n",
      "13 ['approach', 'network', 'performance', 'study']\n",
      "14 ['design', 'approach', 'study', 'software', 'case', 'object', 'oriented']\n",
      "15 ['web', 'mobile', '2008', 'isbn', 'press', 'pp']\n",
      "16 ['learning', 'algorithm']\n",
      "17 ['approach', 'learning', 'algorithm', 'performance', 'software']\n",
      "18 ['network', 'learning', 'algorithm', 'performance']\n",
      "19 ['algorithm', 'software', 'web']\n",
      "20 ['learning', 'performance', 'study', 'evaluation', 'case', 'object']\n",
      "21 ['control', 'adaptive']\n",
      "22 ['software', 'web', 'recognition', 'object', 'language', 'oriented']\n",
      "23 ['distributed', 'recognition']\n",
      "24 ['image', 'models', 'language']\n",
      "25 ['control', 'image', 'method', 'efficient', 'error']\n",
      "26 ['method', 'efficient', 'algorithms', 'search']\n",
      "27 ['software', 'distributed', 'method', 'mobile', 'recognition', 'language']\n",
      "28 ['image', 'problem', 'algorithms', 'mobile', 'language']\n",
      "29 ['distributed', 'video', 'language', 'estimation']\n",
      "30 ['management', 'process']\n",
      "31 ['control', 'method', 'wireless', 'problem', 'algorithms', 'search']\n",
      "32 ['management', 'efficient', 'mobile', 'models']\n",
      "33 ['efficient', 'adaptive', 'models', 'high', 'error']\n",
      "34 ['problem', 'models', 'recognition', 'video', 'language']\n",
      "35 ['models', 'video', 'service', 'error']\n",
      "36 ['management', 'adaptive', 'algorithms', 'video', 'high', 'estimation']\n",
      "37 ['detection', 'error']\n",
      "38 ['models', 'high', 'parallel', 'estimation', 'error']\n",
      "39 ['problem', 'process', 'new', 'optimization', 'detection']\n",
      "40 ['management', 'algorithms', 'service', 'application', 'programming', 'linear']\n",
      "41 ['process', 'optimization', 'detection', 'support']\n",
      "42 ['evaluation', 'parallel', 'architecture']\n",
      "43 ['applications', 'models', 'dynamic', 'application']\n",
      "44 ['dynamic', 'new', 'knowledge', 'linear']\n",
      "45 ['efficient', 'evaluation', 'process', 'high', 'service', 'new']\n",
      "46 ['algorithms', 'search', '3']\n",
      "47 ['process', 'service', 'application', 'new', 'virtual']\n",
      "48 ['dynamic', 'programming', 'knowledge', 'support']\n",
      "49 ['knowledge', 'support', 'search', 'two']\n"
     ]
    }
   ],
   "source": [
    "part_c(pca_model_2, cv_fw_model)"
   ]
  },
  {
   "cell_type": "markdown",
   "metadata": {},
   "source": [
    "## Scatter plot of count vectorizer results after removing stop words"
   ]
  },
  {
   "cell_type": "markdown",
   "metadata": {},
   "source": [
    "as we can see below, after we remove the stop words, we get a stuctured scatter plot and similar components appear in the same grouping because only relevant words are being weighted in the principle components as we can see in part c above. Two components capture 11% of the variance which means that there are less grouping and better structure because less data is less spread out from the mean. "
   ]
  },
  {
   "cell_type": "code",
   "execution_count": 23,
   "metadata": {
    "collapsed": false
   },
   "outputs": [
    {
     "data": {
      "image/png": "[encoded data removed]",
      "text/plain": [
       "<matplotlib.figure.Figure at 0x7fe20d977748>"
      ]
     },
     "metadata": {},
     "output_type": "display_data"
    }
   ],
   "source": [
    "plot_scatter(count_vect_fw_result)"
   ]
  },
  {
   "cell_type": "markdown",
   "metadata": {},
   "source": [
    "## TF-IDF"
   ]
  },
  {
   "cell_type": "code",
   "execution_count": 24,
   "metadata": {
    "collapsed": false
   },
   "outputs": [
    {
     "name": "stdout",
     "output_type": "stream",
     "text": [
      "+---+--------------------+--------------------+--------------------+--------------------+--------------------+\n",
      "| _1|                  _2|               words|            filtered|            features|        tfidFeatures|\n",
      "+---+--------------------+--------------------+--------------------+--------------------+--------------------+\n",
      "|  0|kooperation in kl...|[kooperation, in,...|[kooperation, kle...|        (1000,[],[])|        (1000,[],[])|\n",
      "|  0|natürlichsprachli...|[nat, rlichsprach...|[nat, rlichsprach...|  (1000,[599],[1.0])|(1000,[599],[5.88...|\n",
      "|  0|logic programming...|[logic, programmi...|[logic, programmi...|(1000,[43,45,59,6...|(1000,[43,45,59,6...|\n",
      "|  0|network database ...|[network, databas...|[network, databas...|(1000,[9,13,71,90...|(1000,[9,13,71,90...|\n",
      "|  0|a new approach to...|[a, new, approach...|[new, approach, h...|(1000,[12,44,56,6...|(1000,[12,44,56,6...|\n",
      "|  0|extracting optima...|[extracting, opti...|[extracting, opti...|(1000,[103,273,89...|(1000,[103,273,89...|\n",
      "|  0|design, developme...|[design, developm...|[design, developm...|(1000,[9,40,65,14...|(1000,[9,40,65,14...|\n",
      "|  0|challenges of usi...|[challenges, of, ...|[challenges, usin...|(1000,[1,160,243,...|(1000,[1,160,243,...|\n",
      "|  0|generation of geo...|[generation, of, ...|[generation, geom...|(1000,[0,1,66,85,...|(1000,[0,1,66,85,...|\n",
      "|  0|parallel processi...|[parallel, proces...|[parallel, proces...|(1000,[46,50,57,4...|(1000,[46,50,57,4...|\n",
      "|  0|a service retriev...|[a, service, retr...|[service, retriev...|(1000,[0,4,40,102...|(1000,[0,4,40,102...|\n",
      "|  0|a graph theory ba...|[a, graph, theory...|[graph, theory, b...|(1000,[0,6,32,61,...|(1000,[0,6,32,61,...|\n",
      "|  0|a study of reconf...|[a, study, of, re...|[study, reconfigu...|(1000,[8,17,502,9...|(1000,[8,17,502,9...|\n",
      "|  0|multi-tier data a...|[multi, tier, dat...|[multi, tier, dat...|(1000,[8,11,47,77...|(1000,[8,11,47,77...|\n",
      "|  0|on the difficulty...|[on, the, difficu...|[difficulty, modu...|(1000,[14,45,56,4...|(1000,[14,45,56,4...|\n",
      "|  0|relational learni...|[relational, lear...|[relational, lear...|(1000,[7,14,127,2...|(1000,[7,14,127,2...|\n",
      "|  0|bootstrapping tra...|[bootstrapping, t...|[bootstrapping, t...|(1000,[8,14,17,34...|(1000,[8,14,17,34...|\n",
      "|  0|piecewise linear ...|[piecewise, linea...|[piecewise, linea...|(1000,[38,45,53,1...|(1000,[38,45,53,1...|\n",
      "|  0|a strategy for ml...|[a, strategy, for...|[strategy, mls, w...|(1000,[289,578],[...|(1000,[289,578],[...|\n",
      "|  0|the use of object...|[the, use, of, ob...|[use, object, spe...|(1000,[41,43,48,5...|(1000,[41,43,48,5...|\n",
      "+---+--------------------+--------------------+--------------------+--------------------+--------------------+\n",
      "only showing top 20 rows\n",
      "\n"
     ]
    }
   ],
   "source": [
    "tfResult, tfmodel = apply_tf_idf(count_vect_fw_result)\n",
    "tfResult.show()"
   ]
  },
  {
   "cell_type": "code",
   "execution_count": 25,
   "metadata": {
    "collapsed": false
   },
   "outputs": [
    {
     "name": "stdout",
     "output_type": "stream",
     "text": [
      "+---+--------------------+\n",
      "| _1|         pcaFeatures|\n",
      "+---+--------------------+\n",
      "|  0|[0.0,0.0,0.0,0.0,...|\n",
      "|  0|[0.70179604335518...|\n",
      "|  0|[0.12534134716536...|\n",
      "|  0|[-0.0529180964690...|\n",
      "|  0|[-0.0172915510677...|\n",
      "|  0|[0.00916881951923...|\n",
      "|  0|[-0.0440493098306...|\n",
      "|  0|[-0.0631131307460...|\n",
      "|  0|[-0.1189184238070...|\n",
      "|  0|[0.00238497281612...|\n",
      "|  0|[-0.1767840548228...|\n",
      "|  0|[-0.0369277085729...|\n",
      "|  0|[-0.0732126116020...|\n",
      "|  0|[-0.1576655223987...|\n",
      "|  0|[-0.0097353121865...|\n",
      "|  0|[0.12503992665816...|\n",
      "|  0|[-0.0378521999790...|\n",
      "|  0|[-0.0464777114545...|\n",
      "|  0|[-0.0099947677620...|\n",
      "|  0|[0.27651475818713...|\n",
      "+---+--------------------+\n",
      "only showing top 20 rows\n",
      "\n"
     ]
    }
   ],
   "source": [
    "idf_pca_result, idf_pca_model = apply_pca(tfResult, ic=\"tfidFeatures\")\n",
    "idf_pca_result.select([\"_1\", \"pcaFeatures\"]).show()"
   ]
  },
  {
   "cell_type": "code",
   "execution_count": 26,
   "metadata": {
    "collapsed": false
   },
   "outputs": [
    {
     "name": "stdout",
     "output_type": "stream",
     "text": [
      "[0.00887728203989,0.00597388659684,0.00570271888676,0.00540842892752,0.00518600516194,0.00488709444652,0.00484090701586,0.00459779565076,0.00452426977422,0.00450068539938,0.00444210117148,0.00436198308512,0.00430376959508,0.00421910388237,0.00416061117908,0.00412273165082,0.00402640867289,0.00397440553443,0.00391772352952,0.00386747088978,0.00381153296621,0.00380857068616,0.00375747563333,0.00370639936031,0.0036670003537,0.00363972103027,0.00363353340736,0.00359746103137,0.00353496083172,0.00347735454666,0.00346810907524,0.0034408066675,0.00340116917994,0.00337973287032,0.00332395808053,0.00329010941825,0.003276668444,0.00325979277284,0.00320767537937,0.00318471705402,0.00315823909647,0.00313420027141,0.00310986173453,0.00309593761814,0.00309106078658,0.00303684987516,0.00301797426595,0.00301387792183,0.00297381118671,0.00295531766432]\n"
     ]
    },
    {
     "data": {
      "text/plain": [
       "(50,)"
      ]
     },
     "execution_count": 26,
     "metadata": {},
     "output_type": "execute_result"
    }
   ],
   "source": [
    "var = idf_pca_model.explainedVariance\n",
    "print(var)\n",
    "np.shape(var)"
   ]
  },
  {
   "cell_type": "code",
   "execution_count": 27,
   "metadata": {
    "collapsed": false
   },
   "outputs": [
    {
     "data": {
      "text/plain": [
       "[<matplotlib.lines.Line2D at 0x7fe211370160>]"
      ]
     },
     "execution_count": 27,
     "metadata": {},
     "output_type": "execute_result"
    },
    {
     "data": {
      "image/png": "[encoded data removed]",
      "text/plain": [
       "<matplotlib.figure.Figure at 0x7fe20d979dd8>"
      ]
     },
     "metadata": {},
     "output_type": "display_data"
    }
   ],
   "source": [
    "plt.plot(var)"
   ]
  },
  {
   "cell_type": "markdown",
   "metadata": {},
   "source": [
    "### as we can see below, we need 19 components to explain 50% of the total variance"
   ]
  },
  {
   "cell_type": "code",
   "execution_count": 28,
   "metadata": {
    "collapsed": false
   },
   "outputs": [
    {
     "name": "stdout",
     "output_type": "stream",
     "text": [
      "[ 0.04521169  0.07563649  0.10468024  0.13222518  0.15863732  0.18352713\n",
      "  0.2081817   0.23159811  0.25464006  0.2775619   0.30018537  0.32240079\n",
      "  0.34431974  0.36580749  0.38699734  0.40799427  0.42850063  0.44874214\n",
      "  0.46869497  0.48839187  0.50780387  0.52720079  0.54633749  0.56521405\n",
      "  0.58388996  0.60242693  0.62093239  0.63925413  0.65725757  0.67496761\n",
      "  0.69263057  0.71015448  0.72747652  0.74468938  0.76161819  0.7783746\n",
      "  0.79506256  0.81166457  0.82800115  0.8442208   0.86030561  0.87626798\n",
      "  0.8921064   0.9078739   0.92361657  0.93908314  0.95445358  0.96980315\n",
      "  0.98494867  1.        ]\n"
     ]
    },
    {
     "data": {
      "text/plain": [
       "[<matplotlib.lines.Line2D at 0x7fe20d902518>]"
      ]
     },
     "execution_count": 28,
     "metadata": {},
     "output_type": "execute_result"
    },
    {
     "data": {
      "image/png": "[encoded data removed]",
      "text/plain": [
       "<matplotlib.figure.Figure at 0x7fe2112f8f60>"
      ]
     },
     "metadata": {},
     "output_type": "display_data"
    }
   ],
   "source": [
    "print(np.cumsum(var)/np.sum(var))\n",
    "plt.plot(np.cumsum(var)/np.sum(var))"
   ]
  },
  {
   "cell_type": "markdown",
   "metadata": {},
   "source": [
    "### Identifying important words in each of the principle components after filtering out stop words  and using TF-IDF"
   ]
  },
  {
   "cell_type": "code",
   "execution_count": 29,
   "metadata": {
    "collapsed": false
   },
   "outputs": [
    {
     "name": "stdout",
     "output_type": "stream",
     "text": [
      "0 ['2008', 'isbn', 'press', '24', 'pp', 'networked', 'x']\n",
      "1 ['based', 'model', 'networks', 'wireless']\n",
      "2 ['based', 'networks', 'wireless']\n",
      "3 ['using', 'systems', 'networks']\n",
      "4 ['systems', 'system', 'networks', 'information', 'data', 'time', 'real']\n",
      "5 ['system', 'data', 'multi', 'software']\n",
      "6 ['using', 'system', 'data', 'time']\n",
      "7 ['systems', 'data', 'time', 'multi', 'web']\n",
      "8 ['using', 'systems', 'system', 'analysis', 'information', 'performance', 'software', 'web']\n",
      "9 ['model', 'analysis', 'data', 'performance', 'web']\n",
      "10 ['model', 'study', 'case', 'object', 'oriented']\n",
      "11 ['analysis', 'algorithm', 'problem', 'language']\n",
      "12 ['based', 'using', 'model', 'information', 'data', 'time']\n",
      "13 ['data', 'problem']\n",
      "14 ['using', 'multi', 'network', 'learning']\n",
      "15 ['network', 'error']\n",
      "16 ['design', 'performance', 'language']\n",
      "17 ['design', 'problem']\n",
      "18 ['learning', '3']\n",
      "19 ['system', 'multi', 'network']\n",
      "20 ['video', 'estimation', 'channel']\n",
      "21 ['analysis', 'recognition', 'language', 'error', '2009']\n",
      "22 ['analysis', 'multi', 'learning', 'evaluation']\n",
      "23 ['design', 'web', 'error', '3']\n",
      "24 ['information', 'video']\n",
      "25 ['language', '3']\n",
      "26 ['approach', 'algorithm']\n",
      "27 ['performance', 'study']\n",
      "28 ['image', 'models', '2009']\n",
      "29 ['language']\n",
      "30 ['control', 'adaptive', 'algorithms', 'search']\n",
      "31 ['control']\n",
      "32 ['distributed', 'video']\n",
      "33 ['software']\n",
      "34 ['models', 'support', '3']\n",
      "35 ['method']\n",
      "36 ['learning', 'high', 'detection']\n",
      "37 ['linear', 'peer']\n",
      "38 ['search']\n",
      "39 ['control', 'image', 'models', 'high']\n",
      "40 ['models']\n",
      "41 []\n",
      "42 ['efficient']\n",
      "43 ['distributed', 'applications', 'peer']\n",
      "44 ['parallel']\n",
      "45 ['peer']\n",
      "46 ['adaptive', 'virtual']\n",
      "47 ['peer']\n",
      "48 ['optimization', 'linear']\n",
      "49 ['two']\n"
     ]
    }
   ],
   "source": [
    "### part c: \n",
    "part_c(idf_pca_model, cv_fw_model)"
   ]
  },
  {
   "cell_type": "markdown",
   "metadata": {
    "collapsed": true
   },
   "source": [
    "## Scatter plot of count vectorizer results after removing stop words"
   ]
  },
  {
   "cell_type": "markdown",
   "metadata": {},
   "source": [
    "TF-IDF looks less structured than the scatter plot after applying the count vectorizer after removing stop words the and we only see one group and is not able to seperate groups as effectively\n",
    "\n",
    "the results change such that is looks like all points form one community\n",
    "\n",
    "Two components capture 7.5% of the variance which means that there are nearly no grouping and structure because less data is closer to the mean which means data points are more close to each other. \n"
   ]
  },
  {
   "cell_type": "code",
   "execution_count": 30,
   "metadata": {
    "collapsed": false
   },
   "outputs": [
    {
     "data": {
      "image/png": "[encoded data removed]",
      "text/plain": [
       "<matplotlib.figure.Figure at 0x7fe211344358>"
      ]
     },
     "metadata": {},
     "output_type": "display_data"
    }
   ],
   "source": [
    "plot_scatter(tfResult, ic=\"tfidFeatures\")"
   ]
  },
  {
   "cell_type": "markdown",
   "metadata": {},
   "source": [
    "## VLDB vs NIPS"
   ]
  },
  {
   "cell_type": "code",
   "execution_count": 53,
   "metadata": {
    "collapsed": false
   },
   "outputs": [
    {
     "name": "stdout",
     "output_type": "stream",
     "text": [
      "+---+--------------------+\n",
      "| _1|                  _2|\n",
      "+---+--------------------+\n",
      "|  0|automated selecti...|\n",
      "|  0|fix: feature-base...|\n",
      "|  0|an interval class...|\n",
      "|  0|composite subset ...|\n",
      "|  0|data sharing anal...|\n",
      "|  0|the worlinfo assi...|\n",
      "|  0|xml full-text sea...|\n",
      "|  0|supporting except...|\n",
      "|  0|direct algorithms...|\n",
      "|  0|analyzing quantit...|\n",
      "|  0|using formal meth...|\n",
      "|  0|efficient increme...|\n",
      "|  0|improving perform...|\n",
      "|  0|analyzing energy ...|\n",
      "|  0|an empirical perf...|\n",
      "|  0|picodbms: validat...|\n",
      "|  0|memory requiremen...|\n",
      "|  0|management of sch...|\n",
      "|  0|user-optimizer co...|\n",
      "|  0|improving adaptab...|\n",
      "+---+--------------------+\n",
      "only showing top 20 rows\n",
      "\n",
      "+---+--------------------+\n",
      "| _1|                  _2|\n",
      "+---+--------------------+\n",
      "|  1|synchronized audi...|\n",
      "|  1|cam storage of an...|\n",
      "|  1|gradient descent ...|\n",
      "|  1|synchronization a...|\n",
      "|  1|grammatical infer...|\n",
      "|  1|bayesian models o...|\n",
      "|  1|breaking svm comp...|\n",
      "|  1|learning to find ...|\n",
      "|  1|reinforcement lea...|\n",
      "|  1|robust learning o...|\n",
      "|  1|co-training and e...|\n",
      "|  1|linear learning: ...|\n",
      "|  1|computing with ar...|\n",
      "|  1|hidden markov mod...|\n",
      "|  1|hidden markov mod...|\n",
      "|  1|large-scale predi...|\n",
      "|  1|universal approxi...|\n",
      "|  1|on the distributi...|\n",
      "|  1|on properties of ...|\n",
      "|  1|genetic algorithm...|\n",
      "+---+--------------------+\n",
      "only showing top 20 rows\n",
      "\n",
      "+---+--------------------+\n",
      "| _1|                  _2|\n",
      "+---+--------------------+\n",
      "|  0|automated selecti...|\n",
      "|  0|fix: feature-base...|\n",
      "|  0|an interval class...|\n",
      "|  0|composite subset ...|\n",
      "|  0|data sharing anal...|\n",
      "|  0|the worlinfo assi...|\n",
      "|  0|xml full-text sea...|\n",
      "|  0|supporting except...|\n",
      "|  0|direct algorithms...|\n",
      "|  0|analyzing quantit...|\n",
      "|  0|using formal meth...|\n",
      "|  0|efficient increme...|\n",
      "|  0|improving perform...|\n",
      "|  0|analyzing energy ...|\n",
      "|  0|an empirical perf...|\n",
      "|  0|picodbms: validat...|\n",
      "|  0|memory requiremen...|\n",
      "|  0|management of sch...|\n",
      "|  0|user-optimizer co...|\n",
      "|  0|improving adaptab...|\n",
      "+---+--------------------+\n",
      "only showing top 20 rows\n",
      "\n"
     ]
    }
   ],
   "source": [
    "titles_VLDB = sc.textFile(\"VLDB_titles.txt\").map(lambda l: (0, l.lower()))\n",
    "titles_NIPS = sc.textFile(\"NIPS_titles.txt\").map(lambda l: (1, l.lower()))\n",
    "\n",
    "titles_VLDB_df = titles_VLDB.toDF()\n",
    "titles_NIPS_df = titles_NIPS.toDF()\n",
    "\n",
    "titles_VLDB_df.show()\n",
    "titles_NIPS_df.show()\n",
    "\n",
    "titles_NIPS_VLDB_df = titles_VLDB_df.unionAll(titles_NIPS_df)\n",
    "titles_NIPS_VLDB_df.show()"
   ]
  },
  {
   "cell_type": "code",
   "execution_count": 54,
   "metadata": {
    "collapsed": false
   },
   "outputs": [
    {
     "name": "stdout",
     "output_type": "stream",
     "text": [
      "+---+--------------------+--------------------+\n",
      "| _1|                  _2|               words|\n",
      "+---+--------------------+--------------------+\n",
      "|  0|automated selecti...|[automated, selec...|\n",
      "|  0|fix: feature-base...|[fix, feature, ba...|\n",
      "|  0|an interval class...|[an, interval, cl...|\n",
      "|  0|composite subset ...|[composite, subse...|\n",
      "|  0|data sharing anal...|[data, sharing, a...|\n",
      "|  0|the worlinfo assi...|[the, worlinfo, a...|\n",
      "|  0|xml full-text sea...|[xml, full, text,...|\n",
      "|  0|supporting except...|[supporting, exce...|\n",
      "|  0|direct algorithms...|[direct, algorith...|\n",
      "|  0|analyzing quantit...|[analyzing, quant...|\n",
      "|  0|using formal meth...|[using, formal, m...|\n",
      "|  0|efficient increme...|[efficient, incre...|\n",
      "|  0|improving perform...|[improving, perfo...|\n",
      "|  0|analyzing energy ...|[analyzing, energ...|\n",
      "|  0|an empirical perf...|[an, empirical, p...|\n",
      "|  0|picodbms: validat...|[picodbms, valida...|\n",
      "|  0|memory requiremen...|[memory, requirem...|\n",
      "|  0|management of sch...|[management, of, ...|\n",
      "|  0|user-optimizer co...|[user, optimizer,...|\n",
      "|  0|improving adaptab...|[improving, adapt...|\n",
      "+---+--------------------+--------------------+\n",
      "only showing top 20 rows\n",
      "\n"
     ]
    }
   ],
   "source": [
    "df_titles_NIPS_VLDB_rdd_full = regexTokenizer.transform(titles_NIPS_VLDB_df)\n",
    "df_titles_NIPS_VLDB_rdd_full.show()"
   ]
  },
  {
   "cell_type": "code",
   "execution_count": 55,
   "metadata": {
    "collapsed": false
   },
   "outputs": [],
   "source": [
    "filtered_df_N_D = remove_stop_words(df_titles_NIPS_VLDB_rdd_full)\n",
    "# filtered_df_N_D.show()"
   ]
  },
  {
   "cell_type": "code",
   "execution_count": 56,
   "metadata": {
    "collapsed": false
   },
   "outputs": [
    {
     "name": "stdout",
     "output_type": "stream",
     "text": [
      "+---+--------------------+--------------------+--------------------+--------------------+\n",
      "| _1|                  _2|               words|            filtered|            features|\n",
      "+---+--------------------+--------------------+--------------------+--------------------+\n",
      "|  0|automated selecti...|[automated, selec...|[automated, selec...|(1000,[12,76,177,...|\n",
      "|  0|fix: feature-base...|[fix, feature, ba...|[fix, feature, ba...|(1000,[8,45,66,15...|\n",
      "|  0|an interval class...|[an, interval, cl...|[interval, classi...|(1000,[6,77,104,3...|\n",
      "|  0|composite subset ...|[composite, subse...|[composite, subse...|(1000,[521,864],[...|\n",
      "|  0|data sharing anal...|[data, sharing, a...|[data, sharing, a...|(1000,[1,6,14,48,...|\n",
      "|  0|the worlinfo assi...|[the, worlinfo, a...|[worlinfo, assist...|(1000,[9,54,71,14...|\n",
      "|  0|xml full-text sea...|[xml, full, text,...|[xml, full, text,...|(1000,[42,45,225,...|\n",
      "|  0|supporting except...|[supporting, exce...|[supporting, exce...|(1000,[134,285,28...|\n",
      "|  0|direct algorithms...|[direct, algorith...|[direct, algorith...|(1000,[6,24,199,2...|\n",
      "|  0|analyzing quantit...|[analyzing, quant...|[analyzing, quant...|(1000,[12,52,559]...|\n",
      "|  0|using formal meth...|[using, formal, m...|[using, formal, m...|(1000,[3,8,72,368...|\n",
      "|  0|efficient increme...|[efficient, incre...|[efficient, incre...|(1000,[6,10,15,29...|\n",
      "|  0|improving perform...|[improving, perfo...|[improving, perfo...|(1000,[53,105,250...|\n",
      "|  0|analyzing energy ...|[analyzing, energ...|[analyzing, energ...|(1000,[1,64,72,96...|\n",
      "|  0|an empirical perf...|[an, empirical, p...|[empirical, perfo...|(1000,[6,11,16,31...|\n",
      "|  0|picodbms: validat...|[picodbms, valida...|[picodbms, valida...|(1000,[632,801],[...|\n",
      "|  0|memory requiremen...|[memory, requirem...|[memory, requirem...|(1000,[19,64,369,...|\n",
      "|  0|management of sch...|[management, of, ...|[management, sche...|(1000,[12,31,134,...|\n",
      "|  0|user-optimizer co...|[user, optimizer,...|[user, optimizer,...|(1000,[3,228,235,...|\n",
      "|  0|improving adaptab...|[improving, adapt...|[improving, adapt...|(1000,[3,17,19,17...|\n",
      "+---+--------------------+--------------------+--------------------+--------------------+\n",
      "only showing top 20 rows\n",
      "\n"
     ]
    }
   ],
   "source": [
    "(cv_result_filtered, cv_model_filtered) = apply_count_vectorizer(filtered_df_N_D, ic=\"filtered\")  \n",
    "cv_result_filtered.show(truncate=True)"
   ]
  },
  {
   "cell_type": "code",
   "execution_count": 57,
   "metadata": {
    "collapsed": false
   },
   "outputs": [
    {
     "name": "stdout",
     "output_type": "stream",
     "text": [
      "+---+--------------------+--------------------+--------------------+--------------------+--------------------+\n",
      "| _1|                  _2|               words|            filtered|            features|         pcaFeatures|\n",
      "+---+--------------------+--------------------+--------------------+--------------------+--------------------+\n",
      "|  0|automated selecti...|[automated, selec...|[automated, selec...|(1000,[12,76,177,...|[0.05826037023371...|\n",
      "|  0|fix: feature-base...|[fix, feature, ba...|[fix, feature, ba...|(1000,[8,45,66,15...|[0.03113910898738...|\n",
      "|  0|an interval class...|[an, interval, cl...|[interval, classi...|(1000,[6,77,104,3...|[0.12880175959193...|\n",
      "|  0|composite subset ...|[composite, subse...|[composite, subse...|(1000,[521,864],[...|[1.79958924035264...|\n",
      "|  0|data sharing anal...|[data, sharing, a...|[data, sharing, a...|(1000,[1,6,14,48,...|[0.50510408604954...|\n",
      "|  0|the worlinfo assi...|[the, worlinfo, a...|[worlinfo, assist...|(1000,[9,54,71,14...|[0.07798698877054...|\n",
      "|  0|xml full-text sea...|[xml, full, text,...|[xml, full, text,...|(1000,[42,45,225,...|[0.03918387035160...|\n",
      "|  0|supporting except...|[supporting, exce...|[supporting, exce...|(1000,[134,285,28...|[0.02602607375526...|\n",
      "|  0|direct algorithms...|[direct, algorith...|[direct, algorith...|(1000,[6,24,199,2...|[0.09805359319296...|\n",
      "|  0|analyzing quantit...|[analyzing, quant...|[analyzing, quant...|(1000,[12,52,559]...|[0.03138758351293...|\n",
      "|  0|using formal meth...|[using, formal, m...|[using, formal, m...|(1000,[3,8,72,368...|[-0.0129409001128...|\n",
      "|  0|efficient increme...|[efficient, incre...|[efficient, incre...|(1000,[6,10,15,29...|[0.16393388313788...|\n",
      "|  0|improving perform...|[improving, perfo...|[improving, perfo...|(1000,[53,105,250...|[0.01752910503909...|\n",
      "|  0|analyzing energy ...|[analyzing, energ...|[analyzing, energ...|(1000,[1,64,72,96...|[0.42805195067218...|\n",
      "|  0|an empirical perf...|[an, empirical, p...|[empirical, perfo...|(1000,[6,11,16,31...|[0.27945610964419...|\n",
      "|  0|picodbms: validat...|[picodbms, valida...|[picodbms, valida...|(1000,[632,801],[...|[7.62099896760178...|\n",
      "|  0|memory requiremen...|[memory, requirem...|[memory, requirem...|(1000,[19,64,369,...|[0.04717614859025...|\n",
      "|  0|management of sch...|[management, of, ...|[management, sche...|(1000,[12,31,134,...|[0.10739004537815...|\n",
      "|  0|user-optimizer co...|[user, optimizer,...|[user, optimizer,...|(1000,[3,228,235,...|[0.00186206802089...|\n",
      "|  0|improving adaptab...|[improving, adapt...|[improving, adapt...|(1000,[3,17,19,17...|[0.06919756943831...|\n",
      "+---+--------------------+--------------------+--------------------+--------------------+--------------------+\n",
      "only showing top 20 rows\n",
      "\n"
     ]
    }
   ],
   "source": [
    "pca_result_3, pca_model_3 = apply_pca(cv_result_filtered)\n",
    "pca_result_3.show()"
   ]
  },
  {
   "cell_type": "code",
   "execution_count": 58,
   "metadata": {
    "collapsed": false
   },
   "outputs": [
    {
     "name": "stdout",
     "output_type": "stream",
     "text": [
      "[0.0285038272492,0.0231072178046,0.0188137207774,0.0141057507147,0.0122732972317,0.0117005014416,0.0113643857273,0.00988202908977,0.0092378629719,0.00873275730672,0.00802707525435,0.0072996940428,0.00708419876893,0.00677759172975,0.00647956574535,0.00638506562874,0.00616918209809,0.00612331936439,0.00590812519933,0.00573318274767,0.00565685463919,0.00549922668047,0.0053667181591,0.00525521780281,0.0051585468172,0.00505828945451,0.00491778783089,0.00486727887525,0.00467755447304,0.00456209185389,0.00449510132445,0.0044843023133,0.00443212736599,0.00431646641373,0.00424438338957,0.00420522024029,0.00415377497243,0.00411042346568,0.00406512487671,0.00397514004196,0.00392279955261,0.00387439323075,0.00385506044372,0.00383500103143,0.00376034164492,0.00372511806534,0.00366527801051,0.00360561716678,0.00357184382604,0.00354856866559]\n"
     ]
    },
    {
     "data": {
      "text/plain": [
       "(50,)"
      ]
     },
     "execution_count": 58,
     "metadata": {},
     "output_type": "execute_result"
    }
   ],
   "source": [
    "var = pca_model_3.explainedVariance\n",
    "print(var)\n",
    "np.shape(var)"
   ]
  },
  {
   "cell_type": "code",
   "execution_count": 59,
   "metadata": {
    "collapsed": false
   },
   "outputs": [
    {
     "data": {
      "text/plain": [
       "[<matplotlib.lines.Line2D at 0x7fe20d531780>]"
      ]
     },
     "execution_count": 59,
     "metadata": {},
     "output_type": "execute_result"
    },
    {
     "data": {
      "image/png": "[encoded data removed]",
      "text/plain": [
       "<matplotlib.figure.Figure at 0x7fe20da2b828>"
      ]
     },
     "metadata": {},
     "output_type": "display_data"
    }
   ],
   "source": [
    "plt.plot(var)"
   ]
  },
  {
   "cell_type": "markdown",
   "metadata": {},
   "source": [
    "### as we can see below, we need 13 components to explain 50% of the total variance "
   ]
  },
  {
   "cell_type": "code",
   "execution_count": 60,
   "metadata": {
    "collapsed": false
   },
   "outputs": [
    {
     "name": "stdout",
     "output_type": "stream",
     "text": [
      "[ 0.08272193  0.14978218  0.20438212  0.2453189   0.28093766  0.31489408\n",
      "  0.34787506  0.37655403  0.40336355  0.42870718  0.45200283  0.47318752\n",
      "  0.49374682  0.5134163   0.53222087  0.55075119  0.56865498  0.58642568\n",
      "  0.60357185  0.62021031  0.63662727  0.65258676  0.6681617   0.68341304\n",
      "  0.69838384  0.71306367  0.72733575  0.74146125  0.75503614  0.76827594\n",
      "  0.78132133  0.79433538  0.80719801  0.81972497  0.83204274  0.84424685\n",
      "  0.85630167  0.86823067  0.88002821  0.89156459  0.90294909  0.91419309\n",
      "  0.925381    0.93651069  0.9474237   0.95823449  0.96887162  0.97933561\n",
      "  0.98970158  1.        ]\n"
     ]
    },
    {
     "data": {
      "text/plain": [
       "[<matplotlib.lines.Line2D at 0x7fe20d886208>]"
      ]
     },
     "execution_count": 60,
     "metadata": {},
     "output_type": "execute_result"
    },
    {
     "data": {
      "image/png": "[encoded data removed]",
      "text/plain": [
       "<matplotlib.figure.Figure at 0x7fe20d5810b8>"
      ]
     },
     "metadata": {},
     "output_type": "display_data"
    }
   ],
   "source": [
    "print(np.cumsum(var)/np.sum(var))\n",
    "plt.plot(np.cumsum(var)/np.sum(var))"
   ]
  },
  {
   "cell_type": "markdown",
   "metadata": {},
   "source": [
    "### Identifying important words in each of the principle components after filtering out stop words  and using count vectorizer"
   ]
  },
  {
   "cell_type": "code",
   "execution_count": 61,
   "metadata": {
    "collapsed": false
   },
   "outputs": [
    {
     "name": "stdout",
     "output_type": "stream",
     "text": [
      "0 ['learning', 'data']\n",
      "1 ['learning', 'data', 'neural']\n",
      "2 ['data', 'neural', 'networks']\n",
      "3 ['using', 'networks', 'database', 'information', 'systems', 'processing']\n",
      "4 ['using', 'database', 'systems']\n",
      "5 ['networks', 'model']\n",
      "6 ['networks', 'model', 'database', 'models', 'information', 'processing']\n",
      "7 ['database', 'models', 'based']\n",
      "8 ['model', 'models', 'based', 'network']\n",
      "9 ['neural', 'networks', 'based', 'information', 'network']\n",
      "10 ['models', 'databases', 'analysis', 'query', 'relational', 'object']\n",
      "11 ['information', 'systems', 'system', 'databases', 'large']\n",
      "12 ['information', 'databases', 'large', 'processing', 'query', 'optimization']\n",
      "13 ['analysis', 'query']\n",
      "14 ['system', 'databases', 'analysis', 'large', 'multi', 'approach', 'classification', 'scale']\n",
      "15 ['large', 'multi', 'classification']\n",
      "16 ['efficient', 'bayesian', 'query', 'time']\n",
      "17 ['system', 'efficient', 'query', 'time', 'optimization', 'recognition', 'gaussian']\n",
      "18 ['information', 'systems', 'bayesian', 'approach', 'inference']\n",
      "19 ['information', 'efficient', 'time', 'gaussian']\n",
      "20 ['information', 'systems', 'recognition', 'object', 'visual', 'speech']\n",
      "21 ['multi', 'classification', 'time', 'recognition', 'object', 'gaussian']\n",
      "22 ['large', 'bayesian', 'approach', 'classification', 'gaussian', 'processes']\n",
      "23 ['multi', 'approach', 'classification', 'recognition']\n",
      "24 ['efficient', 'processing', 'algorithms', 'queries', 'optimization']\n",
      "25 ['query', 'classification', 'algorithms', 'queries', 'support', 'vector']\n",
      "26 ['classification', 'algorithms', 'support', 'vector']\n",
      "27 ['neural', 'network', 'queries', 'clustering', 'high', 'support', 'vector']\n",
      "28 ['network', 'processing', 'queries', 'optimization', 'object', 'clustering']\n",
      "29 ['network', 'processing', 'relational', 'optimization', 'object', 'algorithm', 'clustering']\n",
      "30 ['clustering', 'linear', 'non']\n",
      "31 ['algorithm', 'linear', 'sparse', 'estimation']\n",
      "32 ['relational', 'recognition', 'object', 'algorithm', 'clustering']\n",
      "33 ['algorithms', 'relational', 'algorithm', 'clustering', 'estimation']\n",
      "34 ['clustering', 'distributed', 'sparse', 'search', 'dynamic', 'xml']\n",
      "35 ['relational', 'algorithm', 'distributed', 'adaptive', 'control', 'high']\n",
      "36 ['relational', 'optimization', 'management', 'linear', 'adaptive', 'estimation', 'control', 'visual']\n",
      "37 ['distributed', 'inference', 'visual', 'high']\n",
      "38 ['relational', 'algorithm', 'management', 'distributed', 'estimation', 'control', 'visual', 'markov']\n",
      "39 ['optimization', 'management', 'sparse', 'xml', 'via', 'markov']\n",
      "40 ['algorithm', 'distributed', 'sparse', 'kernel', 'xml', 'design']\n",
      "41 ['management', 'inference', 'adaptive', 'estimation', 'control', 'markov']\n",
      "42 ['distributed', 'linear', 'search', 'dynamic', 'temporal']\n",
      "43 ['distributed', 'sparse', 'adaptive', 'estimation', 'visual', 'dynamic', 'kernel']\n",
      "44 ['management', 'search', 'dynamic', 'application']\n",
      "45 ['management', 'clustering', 'estimation', 'visual', 'dynamic', 'kernel']\n",
      "46 ['management', 'distributed', 'inference', 'control', 'dynamic', 'kernel', 'design', 'via']\n",
      "47 ['query', 'search', 'xml', 'application', 'temporal']\n",
      "48 ['queries', 'sparse', 'adaptive', 'visual', 'search', 'kernel', 'via', 'markov']\n",
      "49 ['management', 'control', 'kernel', 'design', 'via']\n"
     ]
    }
   ],
   "source": [
    "part_c(pca_model_3, cv_model_filtered)"
   ]
  },
  {
   "cell_type": "markdown",
   "metadata": {},
   "source": [
    "### Applying TF-IDF"
   ]
  },
  {
   "cell_type": "code",
   "execution_count": 62,
   "metadata": {
    "collapsed": false
   },
   "outputs": [],
   "source": [
    "tfid_result, tfid_model = apply_tf_idf(cv_result_filtered)"
   ]
  },
  {
   "cell_type": "code",
   "execution_count": 63,
   "metadata": {
    "collapsed": false
   },
   "outputs": [
    {
     "name": "stdout",
     "output_type": "stream",
     "text": [
      "+---+--------------------+--------------------+--------------------+--------------------+--------------------+\n",
      "| _1|                  _2|               words|            filtered|            features|        tfidFeatures|\n",
      "+---+--------------------+--------------------+--------------------+--------------------+--------------------+\n",
      "|  0|automated selecti...|[automated, selec...|[automated, selec...|(1000,[12,76,177,...|(1000,[12,76,177,...|\n",
      "|  0|fix: feature-base...|[fix, feature, ba...|[fix, feature, ba...|(1000,[8,45,66,15...|(1000,[8,45,66,15...|\n",
      "|  0|an interval class...|[an, interval, cl...|[interval, classi...|(1000,[6,77,104,3...|(1000,[6,77,104,3...|\n",
      "|  0|composite subset ...|[composite, subse...|[composite, subse...|(1000,[521,864],[...|(1000,[521,864],[...|\n",
      "|  0|data sharing anal...|[data, sharing, a...|[data, sharing, a...|(1000,[1,6,14,48,...|(1000,[1,6,14,48,...|\n",
      "|  0|the worlinfo assi...|[the, worlinfo, a...|[worlinfo, assist...|(1000,[9,54,71,14...|(1000,[9,54,71,14...|\n",
      "|  0|xml full-text sea...|[xml, full, text,...|[xml, full, text,...|(1000,[42,45,225,...|(1000,[42,45,225,...|\n",
      "|  0|supporting except...|[supporting, exce...|[supporting, exce...|(1000,[134,285,28...|(1000,[134,285,28...|\n",
      "|  0|direct algorithms...|[direct, algorith...|[direct, algorith...|(1000,[6,24,199,2...|(1000,[6,24,199,2...|\n",
      "|  0|analyzing quantit...|[analyzing, quant...|[analyzing, quant...|(1000,[12,52,559]...|(1000,[12,52,559]...|\n",
      "|  0|using formal meth...|[using, formal, m...|[using, formal, m...|(1000,[3,8,72,368...|(1000,[3,8,72,368...|\n",
      "|  0|efficient increme...|[efficient, incre...|[efficient, incre...|(1000,[6,10,15,29...|(1000,[6,10,15,29...|\n",
      "|  0|improving perform...|[improving, perfo...|[improving, perfo...|(1000,[53,105,250...|(1000,[53,105,250...|\n",
      "|  0|analyzing energy ...|[analyzing, energ...|[analyzing, energ...|(1000,[1,64,72,96...|(1000,[1,64,72,96...|\n",
      "|  0|an empirical perf...|[an, empirical, p...|[empirical, perfo...|(1000,[6,11,16,31...|(1000,[6,11,16,31...|\n",
      "|  0|picodbms: validat...|[picodbms, valida...|[picodbms, valida...|(1000,[632,801],[...|(1000,[632,801],[...|\n",
      "|  0|memory requiremen...|[memory, requirem...|[memory, requirem...|(1000,[19,64,369,...|(1000,[19,64,369,...|\n",
      "|  0|management of sch...|[management, of, ...|[management, sche...|(1000,[12,31,134,...|(1000,[12,31,134,...|\n",
      "|  0|user-optimizer co...|[user, optimizer,...|[user, optimizer,...|(1000,[3,228,235,...|(1000,[3,228,235,...|\n",
      "|  0|improving adaptab...|[improving, adapt...|[improving, adapt...|(1000,[3,17,19,17...|(1000,[3,17,19,17...|\n",
      "+---+--------------------+--------------------+--------------------+--------------------+--------------------+\n",
      "only showing top 20 rows\n",
      "\n"
     ]
    }
   ],
   "source": [
    "tfid_result.show(truncate=True)"
   ]
  },
  {
   "cell_type": "code",
   "execution_count": 64,
   "metadata": {
    "collapsed": false
   },
   "outputs": [
    {
     "name": "stdout",
     "output_type": "stream",
     "text": [
      "+---+--------------------+\n",
      "| _1|         pcaFeatures|\n",
      "+---+--------------------+\n",
      "|  0|[-0.0980147251708...|\n",
      "|  0|[-0.0596260339104...|\n",
      "|  0|[0.21356856989908...|\n",
      "|  0|[-0.0332658071940...|\n",
      "|  0|[0.06893269829301...|\n",
      "|  0|[1.36990026063397...|\n",
      "|  0|[-0.0016858081384...|\n",
      "|  0|[-6.9026738184319...|\n",
      "|  0|[0.11562547546332...|\n",
      "|  0|[-0.0766269175555...|\n",
      "|  0|[-0.0965160406642...|\n",
      "|  0|[1.52064981472024...|\n",
      "|  0|[-0.0698049974692...|\n",
      "|  0|[-0.0040608454273...|\n",
      "|  0|[0.42534108895059...|\n",
      "|  0|[-6.6392525989840...|\n",
      "|  0|[0.12961488113574...|\n",
      "|  0|[0.16023455175786...|\n",
      "|  0|[-0.0324660664299...|\n",
      "|  0|[1.50622897342175...|\n",
      "+---+--------------------+\n",
      "only showing top 20 rows\n",
      "\n"
     ]
    }
   ],
   "source": [
    "pca_result_5, pca_model_5 = apply_pca(tfid_result, ic=\"tfidFeatures\")\n",
    "pca_result_5.select([\"_1\", \"pcaFeatures\"]).show()"
   ]
  },
  {
   "cell_type": "code",
   "execution_count": 65,
   "metadata": {
    "collapsed": false
   },
   "outputs": [
    {
     "name": "stdout",
     "output_type": "stream",
     "text": [
      "[0.00918035940695,0.00760503990458,0.00597240754182,0.00546044056071,0.00503483974013,0.00494797653594,0.00480485375476,0.00448693504819,0.00431958725367,0.00426355068116,0.00413169678609,0.00411714763841,0.00409103016443,0.00396231070647,0.00395079806126,0.00388419217303,0.00383614471065,0.00378519433723,0.00372591985764,0.00367787427298,0.00359944312979,0.00350215610385,0.003496740909,0.00342861761214,0.00340077541423,0.00336040884747,0.0033182390919,0.00324442808616,0.00322755533069,0.00321220357739,0.00317986912147,0.00316732092366,0.00313837842327,0.00308820579548,0.00305748609563,0.00301162021305,0.00299531626523,0.00297216406295,0.00293465955172,0.00292757063543,0.0029112833439,0.00288114836957,0.00287374018053,0.00283695401954,0.0028244670335,0.00280269489371,0.0027923800157,0.00278398589564,0.00273409035627,0.00271447653551]\n"
     ]
    },
    {
     "data": {
      "text/plain": [
       "(50,)"
      ]
     },
     "execution_count": 65,
     "metadata": {},
     "output_type": "execute_result"
    }
   ],
   "source": [
    "var = pca_model_5.explainedVariance\n",
    "print(var)\n",
    "np.shape(var)"
   ]
  },
  {
   "cell_type": "code",
   "execution_count": 66,
   "metadata": {
    "collapsed": false
   },
   "outputs": [
    {
     "data": {
      "text/plain": [
       "[<matplotlib.lines.Line2D at 0x7fe20d9f4048>]"
      ]
     },
     "execution_count": 66,
     "metadata": {},
     "output_type": "execute_result"
    },
    {
     "data": {
      "image/png": "[encoded data removed]",
      "text/plain": [
       "<matplotlib.figure.Figure at 0x7fe20daba630>"
      ]
     },
     "metadata": {},
     "output_type": "display_data"
    }
   ],
   "source": [
    "plt.plot(var)"
   ]
  },
  {
   "cell_type": "markdown",
   "metadata": {},
   "source": [
    "### as we can see below, we need 19 components to explain 50% of the total variance "
   ]
  },
  {
   "cell_type": "code",
   "execution_count": 67,
   "metadata": {
    "collapsed": false
   },
   "outputs": [
    {
     "name": "stdout",
     "output_type": "stream",
     "text": [
      "[ 0.04892104  0.08944739  0.12127363  0.15037167  0.17720172  0.2035689\n",
      "  0.22917339  0.25308373  0.2761023   0.29882225  0.32083956  0.34277935\n",
      "  0.36457996  0.38569464  0.40674797  0.42744637  0.44788872  0.46805957\n",
      "  0.48791455  0.50751351  0.52669451  0.54535708  0.56399079  0.58226149\n",
      "  0.60038381  0.61829103  0.63597353  0.6532627   0.67046195  0.6875794\n",
      "  0.70452454  0.72140282  0.73812686  0.75458354  0.77087652  0.78692508\n",
      "  0.80288677  0.81872507  0.83436352  0.8499642   0.86547808  0.88083137\n",
      "  0.89614519  0.91126298  0.92631423  0.94124945  0.95612971  0.97096524\n",
      "  0.98553488  1.        ]\n"
     ]
    },
    {
     "data": {
      "text/plain": [
       "[<matplotlib.lines.Line2D at 0x7fe20d502470>]"
      ]
     },
     "execution_count": 67,
     "metadata": {},
     "output_type": "execute_result"
    },
    {
     "data": {
      "image/png": "[encoded data removed]",
      "text/plain": [
       "<matplotlib.figure.Figure at 0x7fe21134fda0>"
      ]
     },
     "metadata": {},
     "output_type": "display_data"
    }
   ],
   "source": [
    "print(np.cumsum(var)/np.sum(var))\n",
    "plt.plot(np.cumsum(var)/np.sum(var))"
   ]
  },
  {
   "cell_type": "markdown",
   "metadata": {},
   "source": [
    "### Identifying important words in each of the principle components after filtering out stop words  and using TF-IDF"
   ]
  },
  {
   "cell_type": "code",
   "execution_count": 68,
   "metadata": {
    "collapsed": false
   },
   "outputs": [
    {
     "name": "stdout",
     "output_type": "stream",
     "text": [
      "0 ['neural', 'information', 'systems', 'processing', 'advances', 'december']\n",
      "1 ['learning', 'data', 'neural', 'networks', 'database', 'system']\n",
      "2 ['learning', 'neural', 'networks', 'network']\n",
      "3 ['data', 'database', 'base']\n",
      "4 ['learning', 'database', 'systems', 'reinforcement']\n",
      "5 ['learning', 'database', 'models', 'based', 'gaussian']\n",
      "6 ['networks', 'model', 'recognition', 'object', 'visual']\n",
      "7 ['using', 'models', 'support', 'vector', 'machines']\n",
      "8 ['using', 'model']\n",
      "9 ['using', 'databases', 'large', 'object', 'scale']\n",
      "10 ['using', 'model', 'based', 'analysis', 'gaussian', 'support', 'vector']\n",
      "11 ['using', 'models', 'based', 'network']\n",
      "12 ['analysis', 'multi', 'time', 'high', 'support', 'vector', 'dimensional']\n",
      "13 ['model', 'system', 'large', 'multi', 'recognition']\n",
      "14 ['models', 'based', 'query', 'optimization', 'gaussian', 'processes']\n",
      "15 ['networks', 'efficient', 'large', 'query', 'time', 'high', 'dimensional', 'real']\n",
      "16 ['analysis', 'query', 'time', 'gaussian', 'process']\n",
      "17 ['networks', 'model', 'databases', 'network', 'large', 'multi']\n",
      "18 ['networks', 'based', 'system', 'network', 'analysis', 'time', 'object']\n",
      "19 ['based', 'system', 'recognition']\n",
      "20 ['system', 'analysis', 'efficient', 'approach', 'recognition']\n",
      "21 ['efficient', 'bayesian', 'approach', 'classification', 'recognition', 'inference']\n",
      "22 ['analysis', 'multi', 'queries', 'high', 'dimensional']\n",
      "23 ['efficient', 'clustering', 'supervised', 'semi']\n",
      "24 ['approach', 'classification', 'object', 'markov']\n",
      "25 ['information', 'bayesian', 'algorithm', 'visual']\n",
      "26 ['efficient', 'bayesian', 'classification', 'algorithms', 'estimation']\n",
      "27 ['system', 'approach', 'queries', 'linear']\n",
      "28 ['efficient', 'queries', 'markov']\n",
      "29 ['efficient', 'object', 'search', 'xml', 'analog', 'vlsi']\n",
      "30 ['classification', 'algorithm', 'clustering', 'estimation']\n",
      "31 ['queries', 'distributed', 'linear', 'estimation', 'search']\n",
      "32 ['information', 'efficient', 'optimization', 'control']\n",
      "33 ['algorithms', 'relational', 'control', 'visual']\n",
      "34 ['approach', 'supervised', 'semi']\n",
      "35 ['algorithms', 'algorithm', 'memory']\n",
      "36 ['estimation', 'visual', 'temporal', 'analog', 'vlsi']\n",
      "37 ['classification', 'relational', 'control', 'kernel', 'temporal']\n",
      "38 ['algorithm', 'search', 'xml', 'temporal']\n",
      "39 ['algorithm', 'management', 'function']\n",
      "40 ['bayesian', 'clustering', 'inference', 'neurons']\n",
      "41 ['optimization', 'sparse', 'via']\n",
      "42 ['bayesian', 'xml', 'memory', 'function']\n",
      "43 ['algorithm', 'design', 'via']\n",
      "44 ['queries', 'clustering', 'kernel', 'xml', 'feature']\n",
      "45 ['feature', 'selection']\n",
      "46 ['sparse', 'image']\n",
      "47 ['clustering', 'dynamic', 'non', 'feature', 'spike']\n",
      "48 ['adaptive', 'estimation', 'application', 'random']\n",
      "49 ['neurons', 'spiking']\n"
     ]
    }
   ],
   "source": [
    "part_c(pca_model_5, cv_model_filtered)"
   ]
  },
  {
   "cell_type": "markdown",
   "metadata": {},
   "source": [
    "### Scatter plot comparision count vectorizer TF-IDF"
   ]
  },
  {
   "cell_type": "code",
   "execution_count": 69,
   "metadata": {
    "collapsed": false
   },
   "outputs": [
    {
     "data": {
      "text/plain": [
       "<matplotlib.collections.PathCollection at 0x7fe20d468f60>"
      ]
     },
     "execution_count": 69,
     "metadata": {},
     "output_type": "execute_result"
    },
    {
     "data": {
      "image/png": "[encoded data removed]",
      "text/plain": [
       "<matplotlib.figure.Figure at 0x7fe20d6a3668>"
      ]
     },
     "metadata": {},
     "output_type": "display_data"
    }
   ],
   "source": [
    "pca_result_4, pca_model_4 = apply_pca(cv_result_filtered, reduced_dim=2)\n",
    "\n",
    "pca_features_vldb = pca_result_4.select(\"_1\", \"pcaFeatures\").rdd.filter(lambda r: r[0] == 0)\n",
    "pca_features_nips = pca_result_4.select(\"_1\", \"pcaFeatures\").rdd.filter(lambda r: r[0] == 1)\n",
    "\n",
    "x_0 = pca_features_vldb.map(lambda l: l[1][0]).collect()\n",
    "y_0 = pca_features_vldb.map(lambda l: l[1][1]).collect()\n",
    "\n",
    "x_1 = pca_features_nips.map(lambda l: l[1][0]).collect()\n",
    "y_1 = pca_features_nips.map(lambda l: l[1][1]).collect()\n",
    "\n",
    "### vldb\n",
    "plt.scatter(x=x_0,y=y_0, c=['yellow'], alpha=0.5)\n",
    "\n",
    "### nips\n",
    "plt.scatter(x=x_1,y=y_1, c=['blue'], alpha=0.5)\n",
    "\n"
   ]
  },
  {
   "cell_type": "code",
   "execution_count": 70,
   "metadata": {
    "collapsed": true
   },
   "outputs": [],
   "source": [
    "pca_result_6, pca_model_6 = apply_pca(tfid_result, ic=\"tfidFeatures\", reduced_dim=2)"
   ]
  },
  {
   "cell_type": "code",
   "execution_count": 71,
   "metadata": {
    "collapsed": false
   },
   "outputs": [
    {
     "data": {
      "text/plain": [
       "<matplotlib.collections.PathCollection at 0x7fe20d45dc88>"
      ]
     },
     "execution_count": 71,
     "metadata": {},
     "output_type": "execute_result"
    },
    {
     "data": {
      "image/png": "[encoded data removed]",
      "text/plain": [
       "<matplotlib.figure.Figure at 0x7fe20da4f0f0>"
      ]
     },
     "metadata": {},
     "output_type": "display_data"
    }
   ],
   "source": [
    "\n",
    "pca_features_vldb = pca_result_6.select(\"_1\", \"pcaFeatures\").rdd.filter(lambda r: r[0] == 0)\n",
    "pca_features_nips = pca_result_6.select(\"_1\", \"pcaFeatures\").rdd.filter(lambda r: r[0] == 1)\n",
    "\n",
    "x_0 = pca_features_vldb.map(lambda l: l[1][0]).collect()\n",
    "y_0 = pca_features_vldb.map(lambda l: l[1][1]).collect()\n",
    "\n",
    "x_1 = pca_features_nips.map(lambda l: l[1][0]).collect()\n",
    "y_1 = pca_features_nips.map(lambda l: l[1][1]).collect()\n",
    "\n",
    "### vldb\n",
    "plt.scatter(x=x_0,y=y_0, c=['yellow'], alpha=0.5)\n",
    "### nips \n",
    "plt.scatter(x=x_1,y=y_1, c=['blue'], alpha=0.5)\n",
    "\n"
   ]
  },
  {
   "cell_type": "markdown",
   "metadata": {
    "collapsed": true
   },
   "source": [
    "### comparing TF-IDF to CountVectorizer after removing stop words: \n",
    "\n",
    "CountVectorizer scatter plot is more structured than TF-IDF which means it is seperating the communities in a better way. \n",
    "Patterns in communities are recognized better by Count vectors. \n",
    "\n",
    "Also the variance captured by two components is 15% in count vectorizer and 8% in TF-IDF which means count vectorizer captures more variance which means it captures grouping more effectively \n"
   ]
  },
  {
   "cell_type": "markdown",
   "metadata": {},
   "source": [
    "### Did PCA succeed in uncovering differences between communities: \n",
    "\n",
    "PCA was able to uncover differences between academic communities in some sense when using count vectorizer however the points for each of the communties overlap because different communities can use the same words in the same degree of importance and PCA is not very good in identifying the use of words in different contexts\n"
   ]
  },
  {
   "cell_type": "code",
   "execution_count": null,
   "metadata": {
    "collapsed": true
   },
   "outputs": [],
   "source": []
  }
 ],
 "metadata": {
  "anaconda-cloud": {},
  "kernelspec": {
   "display_name": "Python 3",
   "language": "python",
   "name": "python3"
  },
  "language_info": {
   "codemirror_mode": {
    "name": "ipython",
    "version": 3
   },
   "file_extension": ".py",
   "mimetype": "text/x-python",
   "name": "python",
   "nbconvert_exporter": "python",
   "pygments_lexer": "ipython3",
   "version": "3.5.2"
  }
 },
 "nbformat": 4,
 "nbformat_minor": 2
}
